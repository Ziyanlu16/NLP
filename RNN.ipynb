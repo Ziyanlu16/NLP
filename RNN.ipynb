{
 "cells": [
  {
   "cell_type": "code",
   "execution_count": 7,
   "metadata": {},
   "outputs": [],
   "source": [
    "import torch\n",
    "import torch.nn as nn\n",
    "import torchvision.datasets as datasets\n",
    "import torchvision.transforms as transforms\n"
   ]
  },
  {
   "cell_type": "code",
   "execution_count": 12,
   "metadata": {},
   "outputs": [],
   "source": [
    "transform = transforms.Compose([\n",
    "    transforms.ToTensor(),\n",
    "    transforms.Normalize((0.5,), (0.5,))\n",
    "])\n",
    "\n",
    "train_dataset = datasets.MNIST(root='./data', train=True, download=True, transform=transform)\n",
    "test_dataset = datasets.MNIST(root='./data', train=False, download=True, transform=transform)\n",
    "\n",
    "train_loader = torch.utils.data.DataLoader(dataset=train_dataset, batch_size=100, shuffle=True)\n",
    "test_loader = torch.utils.data.DataLoader(dataset=test_dataset, batch_size=100, shuffle=False)\n",
    "\n"
   ]
  },
  {
   "cell_type": "code",
   "execution_count": 3,
   "metadata": {},
   "outputs": [],
   "source": [
    "class RNN(nn.Module):\n",
    "    def __init__(self, input_size, hidden_size, num_layers, num_classes):\n",
    "        super(RNN, self).__init__()\n",
    "        self.hidden_size = hidden_size\n",
    "        self.num_layers = num_layers\n",
    "        self.rnn = nn.RNN(input_size, hidden_size, num_layers, batch_first=True)\n",
    "        self.fc = nn.Linear(hidden_size, num_classes)\n",
    "\n",
    "    def forward(self, x):\n",
    "        h0 = torch.zeros(self.num_layers, x.size(0), self.hidden_size).to(device)\n",
    "        out, _ = self.rnn(x, h0)\n",
    "        out = self.fc(out[:, -1, :])\n",
    "        return out\n"
   ]
  },
  {
   "cell_type": "code",
   "execution_count": 4,
   "metadata": {},
   "outputs": [],
   "source": [
    "device = torch.device('cuda' if torch.cuda.is_available() else 'cpu')\n",
    "\n",
    "input_size = 28  \n",
    "hidden_size = 128\n",
    "num_layers = 2\n",
    "num_classes = 10 \n",
    "\n",
    "model = RNN(input_size, hidden_size, num_layers, num_classes).to(device)\n",
    "criterion = nn.CrossEntropyLoss()\n",
    "optimizer = torch.optim.Adam(model.parameters(), lr=0.001)\n"
   ]
  },
  {
   "cell_type": "code",
   "execution_count": 5,
   "metadata": {},
   "outputs": [
    {
     "name": "stdout",
     "output_type": "stream",
     "text": [
      "Epoch [1/5], Step [100/600], Loss: 1.057112216949463\n",
      "Epoch [1/5], Step [200/600], Loss: 0.7718001008033752\n",
      "Epoch [1/5], Step [300/600], Loss: 0.5272331833839417\n",
      "Epoch [1/5], Step [400/600], Loss: 0.49489468336105347\n",
      "Epoch [1/5], Step [500/600], Loss: 0.31297919154167175\n",
      "Epoch [1/5], Step [600/600], Loss: 0.3762851059436798\n",
      "Epoch [2/5], Step [100/600], Loss: 0.3604830801486969\n",
      "Epoch [2/5], Step [200/600], Loss: 0.3134707510471344\n",
      "Epoch [2/5], Step [300/600], Loss: 0.1543247103691101\n",
      "Epoch [2/5], Step [400/600], Loss: 0.11392787843942642\n",
      "Epoch [2/5], Step [500/600], Loss: 0.1703042834997177\n",
      "Epoch [2/5], Step [600/600], Loss: 0.2715418338775635\n",
      "Epoch [3/5], Step [100/600], Loss: 0.31445106863975525\n",
      "Epoch [3/5], Step [200/600], Loss: 0.18109850585460663\n",
      "Epoch [3/5], Step [300/600], Loss: 0.18144017457962036\n",
      "Epoch [3/5], Step [400/600], Loss: 0.09752533584833145\n",
      "Epoch [3/5], Step [500/600], Loss: 0.21019510924816132\n",
      "Epoch [3/5], Step [600/600], Loss: 0.305891215801239\n",
      "Epoch [4/5], Step [100/600], Loss: 0.1467892825603485\n",
      "Epoch [4/5], Step [200/600], Loss: 0.2199781835079193\n",
      "Epoch [4/5], Step [300/600], Loss: 0.25569289922714233\n",
      "Epoch [4/5], Step [400/600], Loss: 0.16537882387638092\n",
      "Epoch [4/5], Step [500/600], Loss: 0.09964258223772049\n",
      "Epoch [4/5], Step [600/600], Loss: 0.11823020130395889\n",
      "Epoch [5/5], Step [100/600], Loss: 0.07746966183185577\n",
      "Epoch [5/5], Step [200/600], Loss: 0.19581001996994019\n",
      "Epoch [5/5], Step [300/600], Loss: 0.21923622488975525\n",
      "Epoch [5/5], Step [400/600], Loss: 0.19706235826015472\n",
      "Epoch [5/5], Step [500/600], Loss: 0.15732282400131226\n",
      "Epoch [5/5], Step [600/600], Loss: 0.13537108898162842\n"
     ]
    }
   ],
   "source": [
    "num_epochs = 5\n",
    "\n",
    "for epoch in range(num_epochs):\n",
    "    for batch_idx, (images, labels) in enumerate(train_loader):\n",
    "        images = images.reshape(-1, 28, 28).to(device)\n",
    "        labels = labels.to(device)\n",
    "\n",
    "        outputs = model(images)\n",
    "        loss = criterion(outputs, labels)\n",
    "\n",
    "        optimizer.zero_grad()\n",
    "        loss.backward()\n",
    "        optimizer.step()\n",
    "\n",
    "        if (batch_idx+1) % 100 == 0:\n",
    "            print(f'Epoch [{epoch+1}/{num_epochs}], Step [{batch_idx+1}/{len(train_loader)}], Loss: {loss.item()}')\n"
   ]
  },
  {
   "cell_type": "code",
   "execution_count": null,
   "metadata": {},
   "outputs": [],
   "source": []
  }
 ],
 "metadata": {
  "kernelspec": {
   "display_name": "Python 3",
   "language": "python",
   "name": "python3"
  },
  "language_info": {
   "codemirror_mode": {
    "name": "ipython",
    "version": 3
   },
   "file_extension": ".py",
   "mimetype": "text/x-python",
   "name": "python",
   "nbconvert_exporter": "python",
   "pygments_lexer": "ipython3",
   "version": "3.11.3"
  },
  "orig_nbformat": 4,
  "vscode": {
   "interpreter": {
    "hash": "45181bf35a62443b9385974df6fb9c881656510a26d3d72ea37359275da11e5c"
   }
  }
 },
 "nbformat": 4,
 "nbformat_minor": 2
}
